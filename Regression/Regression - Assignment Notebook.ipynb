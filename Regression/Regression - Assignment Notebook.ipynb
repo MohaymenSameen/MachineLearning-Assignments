{
 "cells": [
  {
   "cell_type": "markdown",
   "metadata": {},
   "source": [
    "**this is a template notebook. To get a 60 you will need to complete the first three chapters. From there is additional points. In the template you'll see text between <> so \\<example> where you will have to isert your own text. \n",
    "    The template is also just an indication. You can add more cells if needed, and can of course delete this line**\n",
    "\n",
    "# <span style ='background:yellow'>Session 4 Assignment\n",
    "Author: <span style='background:yellow'>Mohaymen Sameen</span><br>\n",
    "Student number: <span style='background:yellow'>627650</span><br>\n",
    "Date: <span style='background:yellow'>19-05-2021</span>"
   ]
  },
  {
   "cell_type": "markdown",
   "metadata": {},
   "source": [
    "For this notebook to work you must have installed the following packages (usually via pip install *packageName*:\n",
    "* numpy\n",
    "* pandas\n",
    "* \\<add other packages\\>\n",
    "\n",
    "From these we will need the following libraries:"
   ]
  },
  {
   "cell_type": "code",
   "execution_count": 2,
   "metadata": {},
   "outputs": [
    {
     "name": "stdout",
     "output_type": "stream",
     "text": [
      "NumPy already installed, only imported\n",
      "PyPlot already installed, only imported\n",
      "pandas already installed, only imported\n",
      "seaborn already installed, only imported\n",
      "sklearn already installed, only imported\n"
     ]
    }
   ],
   "source": [
    "# numpy as np\n",
    "try:\n",
    "    import numpy as np\n",
    "    print('NumPy already installed, only imported')\n",
    "except:\n",
    "    !pip install numpy\n",
    "    import numpy as np\n",
    "    print('NumPy was not installed, installed and imported')\n",
    "    \n",
    "    \n",
    "# pyplot as plt\n",
    "try:\n",
    "    import matplotlib.pyplot as plt\n",
    "    print('PyPlot already installed, only imported')\n",
    "except:\n",
    "    !pip install matplotlib\n",
    "    import matplotlib.pyplot as plt\n",
    "    print('PyPlot was not installed, installed and imported')\n",
    "    \n",
    "#Pandas as pd\n",
    "try:\n",
    "    import pandas as pd\n",
    "    print('pandas already installed, only imported')\n",
    "except:\n",
    "    !pip install pandas\n",
    "    import pandas as pd\n",
    "    print('pandas was not installed, installed and imported')\n",
    "    \n",
    "#Seaborn as sb\n",
    "try:\n",
    "    import seaborn as sn\n",
    "    print('seaborn already installed, only imported')\n",
    "except:\n",
    "    !pip install seaborn\n",
    "    import seaborn as sn\n",
    "    print('seaborn was not installed, installed and imported')\n",
    "    \n",
    "#Sklearn \n",
    "try:\n",
    "    from sklearn.linear_model import LinearRegression\n",
    "    print('sklearn already installed, only imported')\n",
    "except:\n",
    "    !pip install sklearn\n",
    "    from sklearn.linear_model import LinearRegression\n",
    "    print('sklearn was not installed, installed and imported')\n",
    "\n",
    "from sklearn import metrics"
   ]
  },
  {
   "cell_type": "markdown",
   "metadata": {},
   "source": [
    "We are going to use the datafile <span style='background:yellow'>Star.csv</span>. This contains data from <span style='background:yellow'>differet stars and can possibly predict the star type</span>.\n"
   ]
  },
  {
   "cell_type": "code",
   "execution_count": 3,
   "metadata": {},
   "outputs": [],
   "source": [
    "my_data = pd.read_csv(\"Stars.csv\", sep=',', skipinitialspace=True) "
   ]
  },
  {
   "cell_type": "markdown",
   "metadata": {},
   "source": [
    "Here's a quick look at the data:"
   ]
  },
  {
   "cell_type": "code",
   "execution_count": 4,
   "metadata": {},
   "outputs": [
    {
     "data": {
      "text/html": [
       "<div>\n",
       "<style scoped>\n",
       "    .dataframe tbody tr th:only-of-type {\n",
       "        vertical-align: middle;\n",
       "    }\n",
       "\n",
       "    .dataframe tbody tr th {\n",
       "        vertical-align: top;\n",
       "    }\n",
       "\n",
       "    .dataframe thead th {\n",
       "        text-align: right;\n",
       "    }\n",
       "</style>\n",
       "<table border=\"1\" class=\"dataframe\">\n",
       "  <thead>\n",
       "    <tr style=\"text-align: right;\">\n",
       "      <th></th>\n",
       "      <th>Temperature</th>\n",
       "      <th>L</th>\n",
       "      <th>R</th>\n",
       "      <th>A_M</th>\n",
       "      <th>Color</th>\n",
       "      <th>Spectral_Class</th>\n",
       "      <th>Type</th>\n",
       "    </tr>\n",
       "  </thead>\n",
       "  <tbody>\n",
       "    <tr>\n",
       "      <th>0</th>\n",
       "      <td>3068</td>\n",
       "      <td>0.002400</td>\n",
       "      <td>0.1700</td>\n",
       "      <td>16.12</td>\n",
       "      <td>Red</td>\n",
       "      <td>M</td>\n",
       "      <td>0</td>\n",
       "    </tr>\n",
       "    <tr>\n",
       "      <th>1</th>\n",
       "      <td>3042</td>\n",
       "      <td>0.000500</td>\n",
       "      <td>0.1542</td>\n",
       "      <td>16.60</td>\n",
       "      <td>Red</td>\n",
       "      <td>M</td>\n",
       "      <td>0</td>\n",
       "    </tr>\n",
       "    <tr>\n",
       "      <th>2</th>\n",
       "      <td>2600</td>\n",
       "      <td>0.000300</td>\n",
       "      <td>0.1020</td>\n",
       "      <td>18.70</td>\n",
       "      <td>Red</td>\n",
       "      <td>M</td>\n",
       "      <td>0</td>\n",
       "    </tr>\n",
       "    <tr>\n",
       "      <th>3</th>\n",
       "      <td>2800</td>\n",
       "      <td>0.000200</td>\n",
       "      <td>0.1600</td>\n",
       "      <td>16.65</td>\n",
       "      <td>Red</td>\n",
       "      <td>M</td>\n",
       "      <td>0</td>\n",
       "    </tr>\n",
       "    <tr>\n",
       "      <th>4</th>\n",
       "      <td>1939</td>\n",
       "      <td>0.000138</td>\n",
       "      <td>0.1030</td>\n",
       "      <td>20.06</td>\n",
       "      <td>Red</td>\n",
       "      <td>M</td>\n",
       "      <td>0</td>\n",
       "    </tr>\n",
       "  </tbody>\n",
       "</table>\n",
       "</div>"
      ],
      "text/plain": [
       "   Temperature         L       R    A_M Color Spectral_Class  Type\n",
       "0         3068  0.002400  0.1700  16.12   Red              M     0\n",
       "1         3042  0.000500  0.1542  16.60   Red              M     0\n",
       "2         2600  0.000300  0.1020  18.70   Red              M     0\n",
       "3         2800  0.000200  0.1600  16.65   Red              M     0\n",
       "4         1939  0.000138  0.1030  20.06   Red              M     0"
      ]
     },
     "execution_count": 4,
     "metadata": {},
     "output_type": "execute_result"
    }
   ],
   "source": [
    "my_data.head()"
   ]
  },
  {
   "cell_type": "markdown",
   "metadata": {},
   "source": [
    "**ATTRIBUTES:**\n",
    "**Temperature** -- K,\n",
    "**L** -- L/Lo (Luminosity),\n",
    "**R** -- R/Ro (Radius),\n",
    "**AM** -- Mv (Absolute Magnitude),\n",
    "**Color** -- General Color of Spectrum,\n",
    "**Spectral_Class** -- O,B,A,F,G,K,M / SMASS - https://en.wikipedia.org/wiki/Asteroid_spectral_types,\n",
    "**Type** -- Red Dwarf, Brown Dwarf, White Dwarf, Main Sequence , Super Giants, Hyper Giants\n",
    "\n",
    "**Type**\n",
    "from 0 to 5\n",
    "\n",
    "Red Dwarf - 0\n",
    "Brown Dwarf - 1\n",
    "White Dwarf - 2\n",
    "Main Sequence - 3\n",
    "Super Giants - 4\n",
    "Hyper Giants - 5\n",
    "\n",
    "Variables:\n",
    "**Type** (The outcome variable 'y')\n",
    "**L, R, AM** (predictor variables 'x')\n",
    "\n",
    "*note:* You can score a +.5 point if you don't just pick randomly your variables, but use either a pairplot (a plot showing all scatterplots between all possible pairs of variables), a heatmap, and/or a correlation matrix, to pick some that at least have a reasonable correlation."
   ]
  },
  {
   "cell_type": "code",
   "execution_count": 5,
   "metadata": {},
   "outputs": [
    {
     "name": "stdout",
     "output_type": "stream",
     "text": [
      "             Temperature      L      R    A_M   Type\n",
      "Temperature        1.000  0.393  0.064 -0.420  0.411\n",
      "L                  0.393  1.000  0.527 -0.693  0.677\n",
      "R                  0.064  0.527  1.000 -0.609  0.661\n",
      "A_M               -0.420 -0.693 -0.609  1.000 -0.955\n",
      "Type               0.411  0.677  0.661 -0.955  1.000\n"
     ]
    },
    {
     "data": {
      "image/png": "[encoded data removed]",
      "text/plain": [
       "<Figure size 432x288 with 2 Axes>"
      ]
     },
     "metadata": {
      "needs_background": "light"
     },
     "output_type": "display_data"
    }
   ],
   "source": [
    "#Here you can see a correlation matrix\n",
    "corrMatrix = my_data.corr().round(3)\n",
    "print(corrMatrix)\n",
    "\n",
    "#Heatmap\n",
    "sn.heatmap(corrMatrix, annot=True)\n",
    "plt.show()"
   ]
  },
  {
   "cell_type": "markdown",
   "metadata": {},
   "source": [
    "# 2. The Bivariate Regression\n",
    "\n",
    "## 2.1. The First Bivariate Regression\n",
    "\n",
    "First we are going to look at the predictions using only one of our two x's. "
   ]
  },
  {
   "cell_type": "markdown",
   "metadata": {},
   "source": [
    "We start with predicting <span style='background:yellow'>Luminosity</span> using <span style='background:yellow'>the R variable (aka radius)</span>. Below a visualisation of these two:"
   ]
  },
  {
   "cell_type": "code",
   "execution_count": 6,
   "metadata": {},
   "outputs": [
    {
     "data": {
      "text/plain": [
       "[<matplotlib.lines.Line2D at 0x7fd8c38733a0>]"
      ]
     },
     "execution_count": 6,
     "metadata": {},
     "output_type": "execute_result"
    },
    {
     "data": {
      "image/png": "[encoded data removed]",
      "text/plain": [
       "<Figure size 432x288 with 1 Axes>"
      ]
     },
     "metadata": {
      "needs_background": "light"
     },
     "output_type": "display_data"
    }
   ],
   "source": [
    "radiusX = np.array(my_data['R'])\n",
    "luminosityY = np.array(my_data['L'])\n",
    "\n",
    "xRes = radiusX.reshape((-1,1))\n",
    "yRes = luminosityY.reshape((-1,1))\n",
    "\n",
    "sx2 = radiusX.var()\n",
    "mxy = np.array(radiusX*luminosityY).mean()\n",
    "b1=(mxy-radiusX.mean()*luminosityY.mean())/sx2\n",
    "b0=luminosityY.mean()-b1*radiusX.mean()\n",
    "\n",
    "#my prediction \n",
    "myPrediction = b0 + b1*xRes\n",
    "\n",
    "plt.scatter(radiusX,luminosityY, color='blue')\n",
    "plt.plot(radiusX,myPrediction, color='red')"
   ]
  },
  {
   "cell_type": "markdown",
   "metadata": {},
   "source": [
    "As can be seen from the scatterplot there seems to be <span style='background:yellow'>some relationship between the two attributes. For example, the smaller the radius of the star, the less luminious it is. That's why most of the stars with a small radius are clustered in the 200000 range</span>"
   ]
  },
  {
   "cell_type": "markdown",
   "metadata": {},
   "source": [
    "Now that we have a visual inspection its time to perform a bivariate regression (twice, once for each x variable). \n",
    "\n",
    "We first split the data into training and testing data. We start again with the x of <span style='background:yellow'>Radius (R)</span>:"
   ]
  },
  {
   "cell_type": "code",
   "execution_count": 7,
   "metadata": {},
   "outputs": [],
   "source": [
    "from sklearn.model_selection import train_test_split\n",
    "xRes_train, xRes_test, yRes_train, yRes_test = train_test_split(xRes, yRes, test_size=0.4, random_state=101)"
   ]
  },
  {
   "cell_type": "markdown",
   "metadata": {},
   "source": [
    "Now setup the linear regression model and fit our testing data:"
   ]
  },
  {
   "cell_type": "code",
   "execution_count": 8,
   "metadata": {},
   "outputs": [],
   "source": [
    "myModel=LinearRegression().fit(xRes_train, yRes_train) "
   ]
  },
  {
   "cell_type": "markdown",
   "metadata": {},
   "source": [
    "Lets see how well the model performed with the test data, by visualisation:"
   ]
  },
  {
   "cell_type": "code",
   "execution_count": 9,
   "metadata": {},
   "outputs": [
    {
     "data": {
      "text/plain": [
       "[<matplotlib.lines.Line2D at 0x7fd8c393f100>]"
      ]
     },
     "execution_count": 9,
     "metadata": {},
     "output_type": "execute_result"
    },
    {
     "data": {
      "image/png": "[encoded data removed]",
      "text/plain": [
       "<Figure size 432x288 with 1 Axes>"
      ]
     },
     "metadata": {
      "needs_background": "light"
     },
     "output_type": "display_data"
    }
   ],
   "source": [
    "predictions = myModel.predict(xRes_test)\n",
    "plt.scatter(xRes_test,yRes_test, color='blue')\n",
    "plt.plot(xRes_test, predictions, color='red')"
   ]
  },
  {
   "cell_type": "markdown",
   "metadata": {},
   "source": [
    "<span style='background:yellow'>There seems to be some sort of relationship at the X-axis' 5000 to 10000 range as most of the stars are clustered in this region</span>\n",
    "\n",
    "Besides from a visual, we can also use some metrics."
   ]
  },
  {
   "cell_type": "code",
   "execution_count": 10,
   "metadata": {},
   "outputs": [
    {
     "data": {
      "text/html": [
       "<table class=\"simpletable\">\n",
       "<caption>OLS Regression Results</caption>\n",
       "<tr>\n",
       "  <th>Dep. Variable:</th>            <td>y</td>        <th>  R-squared:         </th> <td>   0.277</td>\n",
       "</tr>\n",
       "<tr>\n",
       "  <th>Model:</th>                   <td>OLS</td>       <th>  Adj. R-squared:    </th> <td>   0.274</td>\n",
       "</tr>\n",
       "<tr>\n",
       "  <th>Method:</th>             <td>Least Squares</td>  <th>  F-statistic:       </th> <td>   91.28</td>\n",
       "</tr>\n",
       "<tr>\n",
       "  <th>Date:</th>             <td>Sat, 22 May 2021</td> <th>  Prob (F-statistic):</th> <td>1.62e-18</td>\n",
       "</tr>\n",
       "<tr>\n",
       "  <th>Time:</th>                 <td>12:57:07</td>     <th>  Log-Likelihood:    </th> <td> -3204.5</td>\n",
       "</tr>\n",
       "<tr>\n",
       "  <th>No. Observations:</th>      <td>   240</td>      <th>  AIC:               </th> <td>   6413.</td>\n",
       "</tr>\n",
       "<tr>\n",
       "  <th>Df Residuals:</th>          <td>   238</td>      <th>  BIC:               </th> <td>   6420.</td>\n",
       "</tr>\n",
       "<tr>\n",
       "  <th>Df Model:</th>              <td>     1</td>      <th>                     </th>     <td> </td>   \n",
       "</tr>\n",
       "<tr>\n",
       "  <th>Covariance Type:</th>      <td>nonrobust</td>    <th>                     </th>     <td> </td>   \n",
       "</tr>\n",
       "</table>\n",
       "<table class=\"simpletable\">\n",
       "<tr>\n",
       "    <td></td>       <th>coef</th>     <th>std err</th>      <th>t</th>      <th>P>|t|</th>  <th>[0.025</th>    <th>0.975]</th>  \n",
       "</tr>\n",
       "<tr>\n",
       "  <th>const</th> <td> 6.386e+04</td> <td> 1.09e+04</td> <td>    5.881</td> <td> 0.000</td> <td> 4.25e+04</td> <td> 8.53e+04</td>\n",
       "</tr>\n",
       "<tr>\n",
       "  <th>x1</th>    <td>  182.6798</td> <td>   19.120</td> <td>    9.554</td> <td> 0.000</td> <td>  145.013</td> <td>  220.346</td>\n",
       "</tr>\n",
       "</table>\n",
       "<table class=\"simpletable\">\n",
       "<tr>\n",
       "  <th>Omnibus:</th>       <td>138.676</td> <th>  Durbin-Watson:     </th> <td>   0.807</td> \n",
       "</tr>\n",
       "<tr>\n",
       "  <th>Prob(Omnibus):</th> <td> 0.000</td>  <th>  Jarque-Bera (JB):  </th> <td> 686.464</td> \n",
       "</tr>\n",
       "<tr>\n",
       "  <th>Skew:</th>          <td> 2.420</td>  <th>  Prob(JB):          </th> <td>8.64e-150</td>\n",
       "</tr>\n",
       "<tr>\n",
       "  <th>Kurtosis:</th>      <td> 9.724</td>  <th>  Cond. No.          </th> <td>    625.</td> \n",
       "</tr>\n",
       "</table><br/><br/>Notes:<br/>[1] Standard Errors assume that the covariance matrix of the errors is correctly specified."
      ],
      "text/plain": [
       "<class 'statsmodels.iolib.summary.Summary'>\n",
       "\"\"\"\n",
       "                            OLS Regression Results                            \n",
       "==============================================================================\n",
       "Dep. Variable:                      y   R-squared:                       0.277\n",
       "Model:                            OLS   Adj. R-squared:                  0.274\n",
       "Method:                 Least Squares   F-statistic:                     91.28\n",
       "Date:                Sat, 22 May 2021   Prob (F-statistic):           1.62e-18\n",
       "Time:                        12:57:07   Log-Likelihood:                -3204.5\n",
       "No. Observations:                 240   AIC:                             6413.\n",
       "Df Residuals:                     238   BIC:                             6420.\n",
       "Df Model:                           1                                         \n",
       "Covariance Type:            nonrobust                                         \n",
       "==============================================================================\n",
       "                 coef    std err          t      P>|t|      [0.025      0.975]\n",
       "------------------------------------------------------------------------------\n",
       "const       6.386e+04   1.09e+04      5.881      0.000    4.25e+04    8.53e+04\n",
       "x1           182.6798     19.120      9.554      0.000     145.013     220.346\n",
       "==============================================================================\n",
       "Omnibus:                      138.676   Durbin-Watson:                   0.807\n",
       "Prob(Omnibus):                  0.000   Jarque-Bera (JB):              686.464\n",
       "Skew:                           2.420   Prob(JB):                    8.64e-150\n",
       "Kurtosis:                       9.724   Cond. No.                         625.\n",
       "==============================================================================\n",
       "\n",
       "Notes:\n",
       "[1] Standard Errors assume that the covariance matrix of the errors is correctly specified.\n",
       "\"\"\""
      ]
     },
     "execution_count": 10,
     "metadata": {},
     "output_type": "execute_result"
    }
   ],
   "source": [
    "import statsmodels.api as sm\n",
    "\n",
    "newX=sm.add_constant(radiusX) #add the constant\n",
    "newModel=sm.OLS(luminosityY,newX).fit()\n",
    "newPred=newModel.predict(newX)\n",
    "newModel.summary()"
   ]
  },
  {
   "cell_type": "markdown",
   "metadata": {},
   "source": [
    "<span style='background:yellow'>The R^2 is the coefficent of determination, and this is used to measure the variability of the the factors. You can see in the summary that the value of R^2 is 0.277. The coef values aka the coefficient values are the values that multiply with the x variables (predicators). For example, we see the values 0.00006386 as the constant and the X variable. So it'll be y=182.67X+0.00006386 which is the regression line</span>\n",
    "\n",
    "We can also check how well our model worked by using the testing data:"
   ]
  },
  {
   "cell_type": "code",
   "execution_count": 11,
   "metadata": {},
   "outputs": [
    {
     "data": {
      "text/plain": [
       "0.33145883759007577"
      ]
     },
     "execution_count": 11,
     "metadata": {},
     "output_type": "execute_result"
    }
   ],
   "source": [
    "myModel.score(xRes_test, yRes_test)"
   ]
  },
  {
   "cell_type": "markdown",
   "metadata": {},
   "source": [
    "<span style='background:yellow'>The outcome number which is the score shows the accuracy of the model that we've created</span>"
   ]
  },
  {
   "cell_type": "markdown",
   "metadata": {},
   "source": [
    "Now we repeat all these steps, but using the other x-variable: <span style='background:yellow'>Temperature</span>."
   ]
  },
  {
   "cell_type": "markdown",
   "metadata": {},
   "source": [
    "## 2.2. The Second Bivariate Regression\n",
    "\n",
    "In this section we are going to repeat all the steps from the previous one, but now we are going to try to predict Luminosity based on Temperature\n",
    "\n",
    "Below a visualisation of these two:"
   ]
  },
  {
   "cell_type": "code",
   "execution_count": 12,
   "metadata": {},
   "outputs": [
    {
     "data": {
      "text/plain": [
       "<matplotlib.collections.PathCollection at 0x7fd8c3d8dfa0>"
      ]
     },
     "execution_count": 12,
     "metadata": {},
     "output_type": "execute_result"
    },
    {
     "data": {
      "image/png": "[encoded data removed]",
      "text/plain": [
       "<Figure size 432x288 with 1 Axes>"
      ]
     },
     "metadata": {
      "needs_background": "light"
     },
     "output_type": "display_data"
    }
   ],
   "source": [
    "temperatureX = np.array(my_data['Temperature'])\n",
    "radiusX = np.array(my_data['R'])\n",
    "luminosityY = np.array(my_data['L'])\n",
    "plt.scatter(temperatureX,luminosityY, color='blue')"
   ]
  },
  {
   "cell_type": "code",
   "execution_count": 13,
   "metadata": {},
   "outputs": [
    {
     "data": {
      "text/plain": [
       "<matplotlib.collections.PathCollection at 0x7fd8a83d97f0>"
      ]
     },
     "execution_count": 13,
     "metadata": {},
     "output_type": "execute_result"
    },
    {
     "data": {
      "image/png": "[encoded data removed]",
      "text/plain": [
       "<Figure size 432x288 with 1 Axes>"
      ]
     },
     "metadata": {
      "needs_background": "light"
     },
     "output_type": "display_data"
    }
   ],
   "source": [
    "plt.scatter(radiusX,luminosityY, color='red')"
   ]
  },
  {
   "cell_type": "markdown",
   "metadata": {},
   "source": [
    "As can be seen from the scatterplot there seems to be a <span style='background:yellow'>relationship with temperature and luminosty. The higher the temperature, the higher the luminosity. This can be seen for example in the 25000 to 40000 range. There are all higher than before this range</span>\n",
    "\n",
    "Creating again the training/testing sets and the model itself:"
   ]
  },
  {
   "cell_type": "code",
   "execution_count": 14,
   "metadata": {},
   "outputs": [],
   "source": [
    "from sklearn.model_selection import train_test_split\n",
    "xRes = temperatureX.reshape((-1,1))\n",
    "yRes = luminosityY.reshape((-1,1))\n",
    "xRes_train, xRes_test, yRes_train, yRes_test = train_test_split(xRes, yRes, test_size=0.4, random_state=101)"
   ]
  },
  {
   "cell_type": "markdown",
   "metadata": {},
   "source": [
    "Now lets see how this performs:"
   ]
  },
  {
   "cell_type": "code",
   "execution_count": 15,
   "metadata": {},
   "outputs": [
    {
     "data": {
      "text/plain": [
       "[<matplotlib.lines.Line2D at 0x7fd8c3dd2670>]"
      ]
     },
     "execution_count": 15,
     "metadata": {},
     "output_type": "execute_result"
    },
    {
     "data": {
      "image/png": "[encoded data removed]",
      "text/plain": [
       "<Figure size 432x288 with 1 Axes>"
      ]
     },
     "metadata": {
      "needs_background": "light"
     },
     "output_type": "display_data"
    }
   ],
   "source": [
    "myModel=LinearRegression().fit(xRes_train, yRes_train) \n",
    "predictions = myModel.predict(xRes_test)\n",
    "plt.scatter(xRes_test,yRes_test, color='blue')\n",
    "plt.plot(xRes_test, predictions, color='red')\n"
   ]
  },
  {
   "cell_type": "markdown",
   "metadata": {},
   "source": [
    "<span style='background:yellow'>Surprisingly the outcome of this scatter plot is pretty much similar to the first x-variable which was radius. So maybe it shows that luminosity and temperature is also closely related to luminosity and radius</span>"
   ]
  },
  {
   "cell_type": "markdown",
   "metadata": {},
   "source": [
    "# 3. Multivariate Regression Analysis"
   ]
  },
  {
   "cell_type": "markdown",
   "metadata": {},
   "source": [
    "In the previous chapter two separate bivariate regression analyses were performed to predict <span style='background:yellow'>Luminosity</span> based on <span style='background:yellow'>radius</span> and <span style='background:yellow'>temperature</span> separately. In this chapter we are going to look if we can make an even better prediction if we try to predict <span style='background:yellow'>luminosity</span> based on BOTH of these together."
   ]
  },
  {
   "cell_type": "markdown",
   "metadata": {},
   "source": [
    "We begin with combining the two x's into one X:"
   ]
  },
  {
   "cell_type": "code",
   "execution_count": 16,
   "metadata": {},
   "outputs": [],
   "source": [
    "temperatureX = np.array(my_data['Temperature'])\n",
    "radiusX = np.array(my_data['R'])\n",
    "luminosityY = np.array(my_data['L'])\n",
    "\n",
    "tempRes=temperatureX.reshape((-1,1))\n",
    "radRes=radiusX.reshape((-1,1))\n",
    "lumiRes=luminosityY.reshape((-1,1))\n",
    "\n",
    "combine=np.hstack((tempRes,radRes))"
   ]
  },
  {
   "cell_type": "markdown",
   "metadata": {},
   "source": [
    "To actually perform the regression now, we can use the exact same method as before with the bivariate one:"
   ]
  },
  {
   "cell_type": "code",
   "execution_count": 17,
   "metadata": {},
   "outputs": [],
   "source": [
    "from sklearn.model_selection import train_test_split\n",
    "xRes_train, xRes_test, yRes_train, yRes_test = train_test_split(combine, lumiRes, test_size=0.4, random_state=101)\n",
    "myModel=LinearRegression().fit(xRes_train, yRes_train) "
   ]
  },
  {
   "cell_type": "markdown",
   "metadata": {},
   "source": [
    "A visualisation becomes now more difficult, since it would have to be in 3D. (0.5 bonus if you manage to do this). However, the model summary still works:"
   ]
  },
  {
   "cell_type": "code",
   "execution_count": 18,
   "metadata": {},
   "outputs": [
    {
     "data": {
      "text/html": [
       "<table class=\"simpletable\">\n",
       "<caption>OLS Regression Results</caption>\n",
       "<tr>\n",
       "  <th>Dep. Variable:</th>            <td>y</td>        <th>  R-squared:         </th> <td>   0.407</td>\n",
       "</tr>\n",
       "<tr>\n",
       "  <th>Model:</th>                   <td>OLS</td>       <th>  Adj. R-squared:    </th> <td>   0.402</td>\n",
       "</tr>\n",
       "<tr>\n",
       "  <th>Method:</th>             <td>Least Squares</td>  <th>  F-statistic:       </th> <td>   81.35</td>\n",
       "</tr>\n",
       "<tr>\n",
       "  <th>Date:</th>             <td>Sat, 22 May 2021</td> <th>  Prob (F-statistic):</th> <td>1.26e-27</td>\n",
       "</tr>\n",
       "<tr>\n",
       "  <th>Time:</th>                 <td>12:57:08</td>     <th>  Log-Likelihood:    </th> <td> -3180.7</td>\n",
       "</tr>\n",
       "<tr>\n",
       "  <th>No. Observations:</th>      <td>   240</td>      <th>  AIC:               </th> <td>   6367.</td>\n",
       "</tr>\n",
       "<tr>\n",
       "  <th>Df Residuals:</th>          <td>   237</td>      <th>  BIC:               </th> <td>   6378.</td>\n",
       "</tr>\n",
       "<tr>\n",
       "  <th>Df Model:</th>              <td>     2</td>      <th>                     </th>     <td> </td>   \n",
       "</tr>\n",
       "<tr>\n",
       "  <th>Covariance Type:</th>      <td>nonrobust</td>    <th>                     </th>     <td> </td>   \n",
       "</tr>\n",
       "</table>\n",
       "<table class=\"simpletable\">\n",
       "<tr>\n",
       "    <td></td>       <th>coef</th>     <th>std err</th>      <th>t</th>      <th>P>|t|</th>  <th>[0.025</th>    <th>0.975]</th>  \n",
       "</tr>\n",
       "<tr>\n",
       "  <th>const</th> <td>-5427.2054</td> <td> 1.38e+04</td> <td>   -0.394</td> <td> 0.694</td> <td>-3.26e+04</td> <td> 2.17e+04</td>\n",
       "</tr>\n",
       "<tr>\n",
       "  <th>x1</th>    <td>    6.7826</td> <td>    0.941</td> <td>    7.204</td> <td> 0.000</td> <td>    4.928</td> <td>    8.637</td>\n",
       "</tr>\n",
       "<tr>\n",
       "  <th>x2</th>    <td>  174.6347</td> <td>   17.390</td> <td>   10.042</td> <td> 0.000</td> <td>  140.375</td> <td>  208.894</td>\n",
       "</tr>\n",
       "</table>\n",
       "<table class=\"simpletable\">\n",
       "<tr>\n",
       "  <th>Omnibus:</th>       <td>124.879</td> <th>  Durbin-Watson:     </th> <td>   0.962</td> \n",
       "</tr>\n",
       "<tr>\n",
       "  <th>Prob(Omnibus):</th> <td> 0.000</td>  <th>  Jarque-Bera (JB):  </th> <td> 552.465</td> \n",
       "</tr>\n",
       "<tr>\n",
       "  <th>Skew:</th>          <td> 2.173</td>  <th>  Prob(JB):          </th> <td>1.08e-120</td>\n",
       "</tr>\n",
       "<tr>\n",
       "  <th>Kurtosis:</th>      <td> 9.029</td>  <th>  Cond. No.          </th> <td>2.18e+04</td> \n",
       "</tr>\n",
       "</table><br/><br/>Notes:<br/>[1] Standard Errors assume that the covariance matrix of the errors is correctly specified.<br/>[2] The condition number is large, 2.18e+04. This might indicate that there are<br/>strong multicollinearity or other numerical problems."
      ],
      "text/plain": [
       "<class 'statsmodels.iolib.summary.Summary'>\n",
       "\"\"\"\n",
       "                            OLS Regression Results                            \n",
       "==============================================================================\n",
       "Dep. Variable:                      y   R-squared:                       0.407\n",
       "Model:                            OLS   Adj. R-squared:                  0.402\n",
       "Method:                 Least Squares   F-statistic:                     81.35\n",
       "Date:                Sat, 22 May 2021   Prob (F-statistic):           1.26e-27\n",
       "Time:                        12:57:08   Log-Likelihood:                -3180.7\n",
       "No. Observations:                 240   AIC:                             6367.\n",
       "Df Residuals:                     237   BIC:                             6378.\n",
       "Df Model:                           2                                         \n",
       "Covariance Type:            nonrobust                                         \n",
       "==============================================================================\n",
       "                 coef    std err          t      P>|t|      [0.025      0.975]\n",
       "------------------------------------------------------------------------------\n",
       "const      -5427.2054   1.38e+04     -0.394      0.694   -3.26e+04    2.17e+04\n",
       "x1             6.7826      0.941      7.204      0.000       4.928       8.637\n",
       "x2           174.6347     17.390     10.042      0.000     140.375     208.894\n",
       "==============================================================================\n",
       "Omnibus:                      124.879   Durbin-Watson:                   0.962\n",
       "Prob(Omnibus):                  0.000   Jarque-Bera (JB):              552.465\n",
       "Skew:                           2.173   Prob(JB):                    1.08e-120\n",
       "Kurtosis:                       9.029   Cond. No.                     2.18e+04\n",
       "==============================================================================\n",
       "\n",
       "Notes:\n",
       "[1] Standard Errors assume that the covariance matrix of the errors is correctly specified.\n",
       "[2] The condition number is large, 2.18e+04. This might indicate that there are\n",
       "strong multicollinearity or other numerical problems.\n",
       "\"\"\""
      ]
     },
     "execution_count": 18,
     "metadata": {},
     "output_type": "execute_result"
    }
   ],
   "source": [
    "# Model summary\n",
    "import statsmodels.api as sm\n",
    "\n",
    "newX=sm.add_constant(combine) \n",
    "newModel=sm.OLS(luminosityY,newX).fit()\n",
    "newPred=newModel.predict(newX)\n",
    "newModel.summary()"
   ]
  },
  {
   "cell_type": "code",
   "execution_count": 19,
   "metadata": {},
   "outputs": [
    {
     "data": {
      "text/plain": [
       "0.37828298037149677"
      ]
     },
     "execution_count": 19,
     "metadata": {},
     "output_type": "execute_result"
    }
   ],
   "source": [
    "#Accuracy Score\n",
    "myModel.score(xRes_test, yRes_test)"
   ]
  },
  {
   "cell_type": "markdown",
   "metadata": {},
   "source": [
    "Instead of looking at the R-square, we should be looking at the adjusted R-square. <span style='background:yellow'>This is because the adjusted R-squared is a modified version of R-squared that adjusts for predictors that are not significant in a regression model</span>."
   ]
  },
  {
   "cell_type": "markdown",
   "metadata": {},
   "source": [
    "We also see more rows now in the 'coef' column. <span style='background:yellow'>This is because now there's an additional x variable in the scope. We had the luminosity and radius before, but now since we added the other x variable which is temperature, there are now 3 coefficients</span>."
   ]
  },
  {
   "cell_type": "markdown",
   "metadata": {},
   "source": [
    "<span style='background:yellow'>This model performs differently as it is taking 2 predictors at the same time. In bivariate regression, we only use 2 variables, one which is the outcome variable and 2, which is the predictor. But in multivariate regression, there are 3 variables, one which is the outcome variable (luminosity), 2 which is the predictor (radius) and the last being temperature.</span>"
   ]
  },
  {
   "cell_type": "markdown",
   "metadata": {},
   "source": [
    "A last thing to do would be to check the VIF's:"
   ]
  },
  {
   "cell_type": "code",
   "execution_count": 20,
   "metadata": {},
   "outputs": [
    {
     "data": {
      "text/plain": [
       "[2.3645130150836144, 1.0041407663534527, 1.004140766353453]"
      ]
     },
     "execution_count": 20,
     "metadata": {},
     "output_type": "execute_result"
    }
   ],
   "source": [
    "#VIF\n",
    "from statsmodels.stats.outliers_influence import variance_inflation_factor\n",
    "[variance_inflation_factor(newX, j) for j in range(newX.shape[1])]"
   ]
  },
  {
   "cell_type": "markdown",
   "metadata": {},
   "source": [
    "<span style='background:yellow'>What we see in the results are the variation inflation factors. You can probably see that the first variable is the VIF constant which we can ignore, but the last two are almost identical. If the VIF value is more than 10, we can leave them out since it indicates a multicollinearity problem. However, our values are 1.00414076635.. which is below 10</span>"
   ]
  },
  {
   "cell_type": "markdown",
   "metadata": {},
   "source": [
    "<font size=\"5\"><center>-----Chapters 1 to 3 are required to be fully completed to get a 60, the next few chapters will give a +10 for each chapter.<br> \n",
    "    However the template is not as extensive as the previous chapters. <br>\n",
    "    You can select any chapter below the order is not fixed (you can leave the others empty)<br>\n",
    "    You don't have to use the same dataset for the chapters below. If it helps in clarification you can use another dataset, but then make sure to include it as you submit.\n",
    "    ----</center></font>"
   ]
  },
  {
   "cell_type": "markdown",
   "metadata": {},
   "source": [
    "# 4. Selecting Input Variables"
   ]
  },
  {
   "cell_type": "markdown",
   "metadata": {},
   "source": [
    "In chapter 3 we improved on the model to predict <span style='background:yellow'>the luminosity</span> by using two input variables. We can actually add as many input variables as we like. Lets explore this by simply first adding ALL other variables as X."
   ]
  },
  {
   "cell_type": "code",
   "execution_count": 21,
   "metadata": {},
   "outputs": [],
   "source": [
    "X = my_data[['Temperature', 'R', 'A_M', 'Type']]\n",
    "Y = my_data['L']"
   ]
  },
  {
   "cell_type": "markdown",
   "metadata": {},
   "source": [
    "We could first have a quick look at the results of this model:"
   ]
  },
  {
   "cell_type": "code",
   "execution_count": 22,
   "metadata": {},
   "outputs": [
    {
     "data": {
      "text/html": [
       "<table class=\"simpletable\">\n",
       "<caption>OLS Regression Results</caption>\n",
       "<tr>\n",
       "  <th>Dep. Variable:</th>            <td>L</td>        <th>  R-squared:         </th> <td>   0.520</td>\n",
       "</tr>\n",
       "<tr>\n",
       "  <th>Model:</th>                   <td>OLS</td>       <th>  Adj. R-squared:    </th> <td>   0.499</td>\n",
       "</tr>\n",
       "<tr>\n",
       "  <th>Method:</th>             <td>Least Squares</td>  <th>  F-statistic:       </th> <td>   24.63</td>\n",
       "</tr>\n",
       "<tr>\n",
       "  <th>Date:</th>             <td>Sat, 22 May 2021</td> <th>  Prob (F-statistic):</th> <td>7.88e-14</td>\n",
       "</tr>\n",
       "<tr>\n",
       "  <th>Time:</th>                 <td>12:57:08</td>     <th>  Log-Likelihood:    </th> <td> -1255.1</td>\n",
       "</tr>\n",
       "<tr>\n",
       "  <th>No. Observations:</th>      <td>    96</td>      <th>  AIC:               </th> <td>   2520.</td>\n",
       "</tr>\n",
       "<tr>\n",
       "  <th>Df Residuals:</th>          <td>    91</td>      <th>  BIC:               </th> <td>   2533.</td>\n",
       "</tr>\n",
       "<tr>\n",
       "  <th>Df Model:</th>              <td>     4</td>      <th>                     </th>     <td> </td>   \n",
       "</tr>\n",
       "<tr>\n",
       "  <th>Covariance Type:</th>      <td>nonrobust</td>    <th>                     </th>     <td> </td>   \n",
       "</tr>\n",
       "</table>\n",
       "<table class=\"simpletable\">\n",
       "<tr>\n",
       "       <td></td>          <th>coef</th>     <th>std err</th>      <th>t</th>      <th>P>|t|</th>  <th>[0.025</th>    <th>0.975]</th>  \n",
       "</tr>\n",
       "<tr>\n",
       "  <th>const</th>       <td> 1.485e+05</td> <td> 8.49e+04</td> <td>    1.748</td> <td> 0.084</td> <td>-2.02e+04</td> <td> 3.17e+05</td>\n",
       "</tr>\n",
       "<tr>\n",
       "  <th>Temperature</th> <td>    1.9839</td> <td>    1.504</td> <td>    1.319</td> <td> 0.191</td> <td>   -1.004</td> <td>    4.972</td>\n",
       "</tr>\n",
       "<tr>\n",
       "  <th>R</th>           <td>  114.1371</td> <td>   32.398</td> <td>    3.523</td> <td> 0.001</td> <td>   49.782</td> <td>  178.492</td>\n",
       "</tr>\n",
       "<tr>\n",
       "  <th>A_M</th>         <td>-9866.8203</td> <td> 4196.893</td> <td>   -2.351</td> <td> 0.021</td> <td>-1.82e+04</td> <td>-1530.208</td>\n",
       "</tr>\n",
       "<tr>\n",
       "  <th>Type</th>        <td>-2.413e+04</td> <td> 2.66e+04</td> <td>   -0.908</td> <td> 0.366</td> <td>-7.69e+04</td> <td> 2.87e+04</td>\n",
       "</tr>\n",
       "</table>\n",
       "<table class=\"simpletable\">\n",
       "<tr>\n",
       "  <th>Omnibus:</th>       <td>73.519</td> <th>  Durbin-Watson:     </th> <td>   2.346</td>\n",
       "</tr>\n",
       "<tr>\n",
       "  <th>Prob(Omnibus):</th> <td> 0.000</td> <th>  Jarque-Bera (JB):  </th> <td> 431.851</td>\n",
       "</tr>\n",
       "<tr>\n",
       "  <th>Skew:</th>          <td> 2.521</td> <th>  Prob(JB):          </th> <td>1.68e-94</td>\n",
       "</tr>\n",
       "<tr>\n",
       "  <th>Kurtosis:</th>      <td>12.085</td> <th>  Cond. No.          </th> <td>9.65e+04</td>\n",
       "</tr>\n",
       "</table><br/><br/>Notes:<br/>[1] Standard Errors assume that the covariance matrix of the errors is correctly specified.<br/>[2] The condition number is large, 9.65e+04. This might indicate that there are<br/>strong multicollinearity or other numerical problems."
      ],
      "text/plain": [
       "<class 'statsmodels.iolib.summary.Summary'>\n",
       "\"\"\"\n",
       "                            OLS Regression Results                            \n",
       "==============================================================================\n",
       "Dep. Variable:                      L   R-squared:                       0.520\n",
       "Model:                            OLS   Adj. R-squared:                  0.499\n",
       "Method:                 Least Squares   F-statistic:                     24.63\n",
       "Date:                Sat, 22 May 2021   Prob (F-statistic):           7.88e-14\n",
       "Time:                        12:57:08   Log-Likelihood:                -1255.1\n",
       "No. Observations:                  96   AIC:                             2520.\n",
       "Df Residuals:                      91   BIC:                             2533.\n",
       "Df Model:                           4                                         \n",
       "Covariance Type:            nonrobust                                         \n",
       "===============================================================================\n",
       "                  coef    std err          t      P>|t|      [0.025      0.975]\n",
       "-------------------------------------------------------------------------------\n",
       "const        1.485e+05   8.49e+04      1.748      0.084   -2.02e+04    3.17e+05\n",
       "Temperature     1.9839      1.504      1.319      0.191      -1.004       4.972\n",
       "R             114.1371     32.398      3.523      0.001      49.782     178.492\n",
       "A_M         -9866.8203   4196.893     -2.351      0.021   -1.82e+04   -1530.208\n",
       "Type        -2.413e+04   2.66e+04     -0.908      0.366   -7.69e+04    2.87e+04\n",
       "==============================================================================\n",
       "Omnibus:                       73.519   Durbin-Watson:                   2.346\n",
       "Prob(Omnibus):                  0.000   Jarque-Bera (JB):              431.851\n",
       "Skew:                           2.521   Prob(JB):                     1.68e-94\n",
       "Kurtosis:                      12.085   Cond. No.                     9.65e+04\n",
       "==============================================================================\n",
       "\n",
       "Notes:\n",
       "[1] Standard Errors assume that the covariance matrix of the errors is correctly specified.\n",
       "[2] The condition number is large, 9.65e+04. This might indicate that there are\n",
       "strong multicollinearity or other numerical problems.\n",
       "\"\"\""
      ]
     },
     "execution_count": 22,
     "metadata": {},
     "output_type": "execute_result"
    }
   ],
   "source": [
    "X_train, X_test, y_train, y_test = train_test_split(X, Y, test_size=0.4, random_state=101)\n",
    "X_test.shape[0]\n",
    "\n",
    "myModel=LinearRegression().fit(X_train,y_train) \n",
    "\n",
    "newX=sm.add_constant(X_test) #add the constant\n",
    "newModel=sm.OLS(y_test,newX).fit()\n",
    "newPred=newModel.predict(newX)\n",
    "newModel.summary()"
   ]
  },
  {
   "cell_type": "code",
   "execution_count": 23,
   "metadata": {},
   "outputs": [
    {
     "data": {
      "text/plain": [
       "0.4532497060981583"
      ]
     },
     "execution_count": 23,
     "metadata": {},
     "output_type": "execute_result"
    }
   ],
   "source": [
    "#Accuracy Score\n",
    "myModel.score(X_test, y_test)"
   ]
  },
  {
   "cell_type": "markdown",
   "metadata": {},
   "source": [
    "However we have to be careful with those VIF's. So lets see:"
   ]
  },
  {
   "cell_type": "code",
   "execution_count": 24,
   "metadata": {},
   "outputs": [],
   "source": [
    "# add code here to show the VIF's.\n",
    "#from statsmodels.stats.outliers_influence import variance_inflation_factor\n",
    "#[variance_inflation_factor(newX, j) for j in range(newX.shape[1])]"
   ]
  },
  {
   "cell_type": "markdown",
   "metadata": {},
   "source": [
    "We need to remove the ones with a VIF higher than 10, but each time we remove one, the VIF's change. Lets create a small Python function that removes the highest VIF each time, until none of them are anymore above 10."
   ]
  },
  {
   "cell_type": "code",
   "execution_count": 25,
   "metadata": {},
   "outputs": [],
   "source": [
    "# add your function code here.\n"
   ]
  },
  {
   "cell_type": "markdown",
   "metadata": {},
   "source": [
    "Lets run the function, and then use the result to create a new model:"
   ]
  },
  {
   "cell_type": "code",
   "execution_count": 26,
   "metadata": {},
   "outputs": [],
   "source": [
    "# add code here that runs the just made function, and uses the result for the new model:\n"
   ]
  },
  {
   "cell_type": "markdown",
   "metadata": {},
   "source": [
    "We might also keep an eye out on that adjusted R-square. Iterate over all possible combinations of input variables we have remaining, and see which combination yields the highest adjusted R-square."
   ]
  },
  {
   "cell_type": "code",
   "execution_count": 27,
   "metadata": {},
   "outputs": [],
   "source": [
    "# add your code here.\n"
   ]
  },
  {
   "cell_type": "markdown",
   "metadata": {},
   "source": [
    "Finally lets see how this new model performs:"
   ]
  },
  {
   "cell_type": "code",
   "execution_count": 28,
   "metadata": {},
   "outputs": [],
   "source": [
    "# add code here to model and fit the new X with the y, and show the model summary and accuracy score:\n"
   ]
  },
  {
   "cell_type": "markdown",
   "metadata": {},
   "source": [
    "<span style='background:yellow'>\\<interpret the result, how well is the model now compared to our previous models?></span>"
   ]
  },
  {
   "cell_type": "markdown",
   "metadata": {},
   "source": [
    "# 5. Another splitting method"
   ]
  },
  {
   "cell_type": "markdown",
   "metadata": {},
   "source": [
    "To obtain the the test and training data we used the so-called hold-out method. However other methods also exist for this. In this chapter an explanation and practical example is given for the cross-validation."
   ]
  },
  {
   "cell_type": "markdown",
   "metadata": {},
   "source": [
    "<span style='background:yellow'>Earlier we used the hold-out method to split the datasets into training and testing sets. But there is another way to achieve this. For example, in this section we will talk about the cross validation method. In the code block below we split the main dataset (my_data) into three smaller datasets which are train, validate and test using only numpy and pandas</span>"
   ]
  },
  {
   "cell_type": "code",
   "execution_count": 29,
   "metadata": {},
   "outputs": [],
   "source": [
    "train_size = 0.6\n",
    "validate_size = 0.2\n",
    "train, validate, test = np.split(my_data.sample(frac=1), [int(train_size * len(my_data)), int((validate_size + train_size) * len(my_data))])"
   ]
  },
  {
   "cell_type": "markdown",
   "metadata": {},
   "source": [
    "<span style='background:yellow'>Now you have three datasets which are train, validate and test. We split the datasets in the following way. The training set is the largest one and it's size is 0.6. The validate and test are split evenly and their sizes are 0.2 each. One of the benefits is that cross-validation can be used to train the model with mutilple test-train datasets whereas hold-out just uses one dataset</span>"
   ]
  },
  {
   "cell_type": "markdown",
   "metadata": {},
   "source": [
    "# 6. A New Technique"
   ]
  },
  {
   "cell_type": "markdown",
   "metadata": {},
   "source": [
    "So far, we only used the 'basic' simple linear regression (the bivariate) and multiple linear regression. However, there are many variations, as also seen on the slides. In this chapter the Polynomial regression method is explained."
   ]
  },
  {
   "cell_type": "markdown",
   "metadata": {},
   "source": [
    "<span style='background:yellow'>This regression method is one of many. Polynomial works best or most optimally if the data points clearly will not fit a linear regression. This method also finds a relationship between the Y and X variables and draws a line through the data points</span>"
   ]
  },
  {
   "cell_type": "code",
   "execution_count": 30,
   "metadata": {},
   "outputs": [
    {
     "data": {
      "text/plain": [
       "<matplotlib.collections.PathCollection at 0x7fd8c3e3de50>"
      ]
     },
     "execution_count": 30,
     "metadata": {},
     "output_type": "execute_result"
    },
    {
     "data": {
      "image/png": "[encoded data removed]",
      "text/plain": [
       "<Figure size 432x288 with 1 Axes>"
      ]
     },
     "metadata": {
      "needs_background": "light"
     },
     "output_type": "display_data"
    }
   ],
   "source": [
    "# Lets use the temperature and luminosity variables from the Stars.csv file\n",
    "my_data = pd.read_csv('Stars.csv')\n",
    "\n",
    "#Our Y variable will be luminosity and the X variable will be the temperature\n",
    "temperatureX = my_data['Temperature']\n",
    "luminosityY = my_data['L']\n",
    "\n",
    "#Lets plot then on the scatter plot\n",
    "plt.scatter(temperatureX,luminosityY, color='blue')"
   ]
  },
  {
   "cell_type": "code",
   "execution_count": 31,
   "metadata": {},
   "outputs": [
    {
     "data": {
      "text/plain": [
       "[<matplotlib.lines.Line2D at 0x7fd8a0418640>]"
      ]
     },
     "execution_count": 31,
     "metadata": {},
     "output_type": "execute_result"
    },
    {
     "data": {
      "image/png": "[encoded data removed]",
      "text/plain": [
       "<Figure size 432x288 with 1 Axes>"
      ]
     },
     "metadata": {
      "needs_background": "light"
     },
     "output_type": "display_data"
    }
   ],
   "source": [
    "#Now lets plot the polynomial regression line\n",
    "\n",
    "#This is our polynomial model\n",
    "mymodel = np.poly1d(np.polyfit(temperatureX, luminosityY , 5))\n",
    "\n",
    "#lets start with the first position which is 3000, and the end position which is 40000\n",
    "myline = np.linspace(3000, 40000)\n",
    "\n",
    "plt.scatter(temperatureX, luminosityY, color='blue')\n",
    "plt.plot(myline, mymodel(myline), color='red')\n"
   ]
  },
  {
   "cell_type": "markdown",
   "metadata": {},
   "source": [
    "# 7. Surprise"
   ]
  },
  {
   "cell_type": "markdown",
   "metadata": {},
   "source": [
    "There is a lot written about regression analysis, and although a lot was discussed during the lecture, that was just a tip of an iceberg. One thing for example that was not mentioned is \\<start explaining from here....>"
   ]
  },
  {
   "cell_type": "markdown",
   "metadata": {},
   "source": [
    "----this chapter is for the 10. It should be something substantial, related to regression and not already discussed----"
   ]
  },
  {
   "cell_type": "code",
   "execution_count": null,
   "metadata": {},
   "outputs": [],
   "source": []
  }
 ],
 "metadata": {
  "kernelspec": {
   "display_name": "Python 3",
   "language": "python",
   "name": "python3"
  },
  "language_info": {
   "codemirror_mode": {
    "name": "ipython",
    "version": 3
   },
   "file_extension": ".py",
   "mimetype": "text/x-python",
   "name": "python",
   "nbconvert_exporter": "python",
   "pygments_lexer": "ipython3",
   "version": "3.8.5"
  }
 },
 "nbformat": 4,
 "nbformat_minor": 4
}
